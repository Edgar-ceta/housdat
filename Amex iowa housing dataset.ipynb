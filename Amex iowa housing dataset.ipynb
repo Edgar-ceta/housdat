{
 "cells": [
  {
   "cell_type": "code",
   "execution_count": 1,
   "id": "9ba2afdc-e02b-4689-9f64-a3502934561a",
   "metadata": {},
   "outputs": [],
   "source": [
    "import pandas as pd\n",
    "import numpy as np\n",
    "from sklearn.model_selection import train_test_split\n",
    "from sklearn.preprocessing import StandardScaler, OneHotEncoder"
   ]
  },
  {
   "cell_type": "code",
   "execution_count": 2,
   "id": "b4f6984d-bb0f-4560-a9bc-2d4e7cb65de6",
   "metadata": {},
   "outputs": [],
   "source": [
    "from sklearn.linear_model import Ridge\n",
    "from sklearn.metrics import mean_squared_error"
   ]
  },
  {
   "cell_type": "code",
   "execution_count": 3,
   "id": "3d613773-ae37-406f-9b9b-bf24f728b7f4",
   "metadata": {},
   "outputs": [
    {
     "name": "stderr",
     "output_type": "stream",
     "text": [
      "Matplotlib is building the font cache; this may take a moment.\n"
     ]
    }
   ],
   "source": [
    "import matplotlib.pyplot as plt\n",
    "import seaborn as sns"
   ]
  },
  {
   "cell_type": "code",
   "execution_count": 5,
   "id": "48ae5576-5dc5-4aa4-8008-105a8f2bf422",
   "metadata": {},
   "outputs": [
    {
     "data": {
      "text/html": [
       "<div>\n",
       "<style scoped>\n",
       "    .dataframe tbody tr th:only-of-type {\n",
       "        vertical-align: middle;\n",
       "    }\n",
       "\n",
       "    .dataframe tbody tr th {\n",
       "        vertical-align: top;\n",
       "    }\n",
       "\n",
       "    .dataframe thead th {\n",
       "        text-align: right;\n",
       "    }\n",
       "</style>\n",
       "<table border=\"1\" class=\"dataframe\">\n",
       "  <thead>\n",
       "    <tr style=\"text-align: right;\">\n",
       "      <th></th>\n",
       "      <th>Id</th>\n",
       "      <th>MSSubClass</th>\n",
       "      <th>MSZoning</th>\n",
       "      <th>LotFrontage</th>\n",
       "      <th>LotArea</th>\n",
       "      <th>Street</th>\n",
       "      <th>Alley</th>\n",
       "      <th>LotShape</th>\n",
       "      <th>LandContour</th>\n",
       "      <th>Utilities</th>\n",
       "      <th>...</th>\n",
       "      <th>PoolArea</th>\n",
       "      <th>PoolQC</th>\n",
       "      <th>Fence</th>\n",
       "      <th>MiscFeature</th>\n",
       "      <th>MiscVal</th>\n",
       "      <th>MoSold</th>\n",
       "      <th>YrSold</th>\n",
       "      <th>SaleType</th>\n",
       "      <th>SaleCondition</th>\n",
       "      <th>SalePrice</th>\n",
       "    </tr>\n",
       "  </thead>\n",
       "  <tbody>\n",
       "    <tr>\n",
       "      <th>0</th>\n",
       "      <td>1</td>\n",
       "      <td>60</td>\n",
       "      <td>RL</td>\n",
       "      <td>65.0</td>\n",
       "      <td>8450</td>\n",
       "      <td>Pave</td>\n",
       "      <td>NaN</td>\n",
       "      <td>Reg</td>\n",
       "      <td>Lvl</td>\n",
       "      <td>AllPub</td>\n",
       "      <td>...</td>\n",
       "      <td>0</td>\n",
       "      <td>NaN</td>\n",
       "      <td>NaN</td>\n",
       "      <td>NaN</td>\n",
       "      <td>0</td>\n",
       "      <td>2</td>\n",
       "      <td>2008</td>\n",
       "      <td>WD</td>\n",
       "      <td>Normal</td>\n",
       "      <td>208500</td>\n",
       "    </tr>\n",
       "    <tr>\n",
       "      <th>1</th>\n",
       "      <td>2</td>\n",
       "      <td>20</td>\n",
       "      <td>RL</td>\n",
       "      <td>80.0</td>\n",
       "      <td>9600</td>\n",
       "      <td>Pave</td>\n",
       "      <td>NaN</td>\n",
       "      <td>Reg</td>\n",
       "      <td>Lvl</td>\n",
       "      <td>AllPub</td>\n",
       "      <td>...</td>\n",
       "      <td>0</td>\n",
       "      <td>NaN</td>\n",
       "      <td>NaN</td>\n",
       "      <td>NaN</td>\n",
       "      <td>0</td>\n",
       "      <td>5</td>\n",
       "      <td>2007</td>\n",
       "      <td>WD</td>\n",
       "      <td>Normal</td>\n",
       "      <td>181500</td>\n",
       "    </tr>\n",
       "    <tr>\n",
       "      <th>2</th>\n",
       "      <td>3</td>\n",
       "      <td>60</td>\n",
       "      <td>RL</td>\n",
       "      <td>68.0</td>\n",
       "      <td>11250</td>\n",
       "      <td>Pave</td>\n",
       "      <td>NaN</td>\n",
       "      <td>IR1</td>\n",
       "      <td>Lvl</td>\n",
       "      <td>AllPub</td>\n",
       "      <td>...</td>\n",
       "      <td>0</td>\n",
       "      <td>NaN</td>\n",
       "      <td>NaN</td>\n",
       "      <td>NaN</td>\n",
       "      <td>0</td>\n",
       "      <td>9</td>\n",
       "      <td>2008</td>\n",
       "      <td>WD</td>\n",
       "      <td>Normal</td>\n",
       "      <td>223500</td>\n",
       "    </tr>\n",
       "    <tr>\n",
       "      <th>3</th>\n",
       "      <td>4</td>\n",
       "      <td>70</td>\n",
       "      <td>RL</td>\n",
       "      <td>60.0</td>\n",
       "      <td>9550</td>\n",
       "      <td>Pave</td>\n",
       "      <td>NaN</td>\n",
       "      <td>IR1</td>\n",
       "      <td>Lvl</td>\n",
       "      <td>AllPub</td>\n",
       "      <td>...</td>\n",
       "      <td>0</td>\n",
       "      <td>NaN</td>\n",
       "      <td>NaN</td>\n",
       "      <td>NaN</td>\n",
       "      <td>0</td>\n",
       "      <td>2</td>\n",
       "      <td>2006</td>\n",
       "      <td>WD</td>\n",
       "      <td>Abnorml</td>\n",
       "      <td>140000</td>\n",
       "    </tr>\n",
       "    <tr>\n",
       "      <th>4</th>\n",
       "      <td>5</td>\n",
       "      <td>60</td>\n",
       "      <td>RL</td>\n",
       "      <td>84.0</td>\n",
       "      <td>14260</td>\n",
       "      <td>Pave</td>\n",
       "      <td>NaN</td>\n",
       "      <td>IR1</td>\n",
       "      <td>Lvl</td>\n",
       "      <td>AllPub</td>\n",
       "      <td>...</td>\n",
       "      <td>0</td>\n",
       "      <td>NaN</td>\n",
       "      <td>NaN</td>\n",
       "      <td>NaN</td>\n",
       "      <td>0</td>\n",
       "      <td>12</td>\n",
       "      <td>2008</td>\n",
       "      <td>WD</td>\n",
       "      <td>Normal</td>\n",
       "      <td>250000</td>\n",
       "    </tr>\n",
       "  </tbody>\n",
       "</table>\n",
       "<p>5 rows × 81 columns</p>\n",
       "</div>"
      ],
      "text/plain": [
       "   Id  MSSubClass MSZoning  LotFrontage  LotArea Street Alley LotShape  \\\n",
       "0   1          60       RL         65.0     8450   Pave   NaN      Reg   \n",
       "1   2          20       RL         80.0     9600   Pave   NaN      Reg   \n",
       "2   3          60       RL         68.0    11250   Pave   NaN      IR1   \n",
       "3   4          70       RL         60.0     9550   Pave   NaN      IR1   \n",
       "4   5          60       RL         84.0    14260   Pave   NaN      IR1   \n",
       "\n",
       "  LandContour Utilities  ... PoolArea PoolQC Fence MiscFeature MiscVal MoSold  \\\n",
       "0         Lvl    AllPub  ...        0    NaN   NaN         NaN       0      2   \n",
       "1         Lvl    AllPub  ...        0    NaN   NaN         NaN       0      5   \n",
       "2         Lvl    AllPub  ...        0    NaN   NaN         NaN       0      9   \n",
       "3         Lvl    AllPub  ...        0    NaN   NaN         NaN       0      2   \n",
       "4         Lvl    AllPub  ...        0    NaN   NaN         NaN       0     12   \n",
       "\n",
       "  YrSold  SaleType  SaleCondition  SalePrice  \n",
       "0   2008        WD         Normal     208500  \n",
       "1   2007        WD         Normal     181500  \n",
       "2   2008        WD         Normal     223500  \n",
       "3   2006        WD        Abnorml     140000  \n",
       "4   2008        WD         Normal     250000  \n",
       "\n",
       "[5 rows x 81 columns]"
      ]
     },
     "execution_count": 5,
     "metadata": {},
     "output_type": "execute_result"
    }
   ],
   "source": [
    "data = pd.read_csv(\"ames iowa housing.csv\")\n",
    "data.head()"
   ]
  },
  {
   "cell_type": "code",
   "execution_count": 6,
   "id": "cb1aa784-8e78-4d58-b87d-b00cc875db09",
   "metadata": {},
   "outputs": [
    {
     "name": "stdout",
     "output_type": "stream",
     "text": [
      "        Id  MSSubClass MSZoning  LotFrontage  LotArea Street Alley LotShape  \\\n",
      "0        1          60       RL         65.0     8450   Pave   NaN      Reg   \n",
      "1        2          20       RL         80.0     9600   Pave   NaN      Reg   \n",
      "2        3          60       RL         68.0    11250   Pave   NaN      IR1   \n",
      "3        4          70       RL         60.0     9550   Pave   NaN      IR1   \n",
      "4        5          60       RL         84.0    14260   Pave   NaN      IR1   \n",
      "...    ...         ...      ...          ...      ...    ...   ...      ...   \n",
      "1455  1456          60       RL         62.0     7917   Pave   NaN      Reg   \n",
      "1456  1457          20       RL         85.0    13175   Pave   NaN      Reg   \n",
      "1457  1458          70       RL         66.0     9042   Pave   NaN      Reg   \n",
      "1458  1459          20       RL         68.0     9717   Pave   NaN      Reg   \n",
      "1459  1460          20       RL         75.0     9937   Pave   NaN      Reg   \n",
      "\n",
      "     LandContour Utilities  ... PoolArea PoolQC  Fence MiscFeature MiscVal  \\\n",
      "0            Lvl    AllPub  ...        0    NaN    NaN         NaN       0   \n",
      "1            Lvl    AllPub  ...        0    NaN    NaN         NaN       0   \n",
      "2            Lvl    AllPub  ...        0    NaN    NaN         NaN       0   \n",
      "3            Lvl    AllPub  ...        0    NaN    NaN         NaN       0   \n",
      "4            Lvl    AllPub  ...        0    NaN    NaN         NaN       0   \n",
      "...          ...       ...  ...      ...    ...    ...         ...     ...   \n",
      "1455         Lvl    AllPub  ...        0    NaN    NaN         NaN       0   \n",
      "1456         Lvl    AllPub  ...        0    NaN  MnPrv         NaN       0   \n",
      "1457         Lvl    AllPub  ...        0    NaN  GdPrv        Shed    2500   \n",
      "1458         Lvl    AllPub  ...        0    NaN    NaN         NaN       0   \n",
      "1459         Lvl    AllPub  ...        0    NaN    NaN         NaN       0   \n",
      "\n",
      "     MoSold YrSold  SaleType  SaleCondition  SalePrice  \n",
      "0         2   2008        WD         Normal     208500  \n",
      "1         5   2007        WD         Normal     181500  \n",
      "2         9   2008        WD         Normal     223500  \n",
      "3         2   2006        WD        Abnorml     140000  \n",
      "4        12   2008        WD         Normal     250000  \n",
      "...     ...    ...       ...            ...        ...  \n",
      "1455      8   2007        WD         Normal     175000  \n",
      "1456      2   2010        WD         Normal     210000  \n",
      "1457      5   2010        WD         Normal     266500  \n",
      "1458      4   2010        WD         Normal     142125  \n",
      "1459      6   2008        WD         Normal     147500  \n",
      "\n",
      "[1456 rows x 81 columns]\n"
     ]
    }
   ],
   "source": [
    "df = data[data[\"GrLivArea\"] <= 4000]\n",
    "print(df)"
   ]
  },
  {
   "cell_type": "code",
   "execution_count": 7,
   "id": "e39364c3-664f-4ef3-8901-2d56772b1699",
   "metadata": {},
   "outputs": [
    {
     "name": "stdout",
     "output_type": "stream",
     "text": [
      "      YearBuilt  GrLivArea  TotalBsmtSF  LotArea\n",
      "0          2003       1710          856     8450\n",
      "1          1976       1262         1262     9600\n",
      "2          2001       1786          920    11250\n",
      "3          1915       1717          756     9550\n",
      "4          2000       2198         1145    14260\n",
      "...         ...        ...          ...      ...\n",
      "1455       1999       1647          953     7917\n",
      "1456       1978       2073         1542    13175\n",
      "1457       1941       2340         1152     9042\n",
      "1458       1950       1078         1078     9717\n",
      "1459       1965       1256         1256     9937\n",
      "\n",
      "[1460 rows x 4 columns]\n"
     ]
    }
   ],
   "source": [
    "numerical_features = [\"YearBuilt\", \"GrLivArea\", \"TotalBsmtSF\", \"LotArea\"]\n",
    "X_numerical = data[numerical_features]\n",
    "print(X_numerical)"
   ]
  },
  {
   "cell_type": "code",
   "execution_count": 8,
   "id": "5d456540-7746-4240-835f-dd5e39177c06",
   "metadata": {},
   "outputs": [
    {
     "name": "stdout",
     "output_type": "stream",
     "text": [
      "      BedroomAbvGr  Fireplaces  OverallCond  OverallQual\n",
      "0                3           0            5            7\n",
      "1                3           1            8            6\n",
      "2                3           1            5            7\n",
      "3                3           1            5            7\n",
      "4                4           1            5            8\n",
      "...            ...         ...          ...          ...\n",
      "1455             3           1            5            6\n",
      "1456             3           2            6            6\n",
      "1457             4           2            9            7\n",
      "1458             2           0            6            5\n",
      "1459             3           0            6            5\n",
      "\n",
      "[1460 rows x 4 columns]\n"
     ]
    }
   ],
   "source": [
    "ordinal_features = [\"BedroomAbvGr\", \"Fireplaces\", \"OverallCond\", \"OverallQual\"]\n",
    "X_ordinal = data[ordinal_features]\n",
    "print(X_ordinal)"
   ]
  },
  {
   "cell_type": "code",
   "execution_count": 9,
   "id": "eddedc2a-9b22-462c-8bcc-6736e965a234",
   "metadata": {},
   "outputs": [
    {
     "name": "stdout",
     "output_type": "stream",
     "text": [
      "      BldgType_2fmCon  BldgType_Duplex  BldgType_Twnhs  BldgType_TwnhsE  \\\n",
      "0               False            False           False            False   \n",
      "1               False            False           False            False   \n",
      "2               False            False           False            False   \n",
      "3               False            False           False            False   \n",
      "4               False            False           False            False   \n",
      "...               ...              ...             ...              ...   \n",
      "1455            False            False           False            False   \n",
      "1456            False            False           False            False   \n",
      "1457            False            False           False            False   \n",
      "1458            False            False           False            False   \n",
      "1459            False            False           False            False   \n",
      "\n",
      "      Neighborhood_Blueste  Neighborhood_BrDale  Neighborhood_BrkSide  \\\n",
      "0                    False                False                 False   \n",
      "1                    False                False                 False   \n",
      "2                    False                False                 False   \n",
      "3                    False                False                 False   \n",
      "4                    False                False                 False   \n",
      "...                    ...                  ...                   ...   \n",
      "1455                 False                False                 False   \n",
      "1456                 False                False                 False   \n",
      "1457                 False                False                 False   \n",
      "1458                 False                False                 False   \n",
      "1459                 False                False                 False   \n",
      "\n",
      "      Neighborhood_ClearCr  Neighborhood_CollgCr  Neighborhood_Crawfor  ...  \\\n",
      "0                    False                  True                 False  ...   \n",
      "1                    False                 False                 False  ...   \n",
      "2                    False                  True                 False  ...   \n",
      "3                    False                 False                  True  ...   \n",
      "4                    False                 False                 False  ...   \n",
      "...                    ...                   ...                   ...  ...   \n",
      "1455                 False                 False                 False  ...   \n",
      "1456                 False                 False                 False  ...   \n",
      "1457                 False                 False                  True  ...   \n",
      "1458                 False                 False                 False  ...   \n",
      "1459                 False                 False                 False  ...   \n",
      "\n",
      "      Neighborhood_NoRidge  Neighborhood_NridgHt  Neighborhood_OldTown  \\\n",
      "0                    False                 False                 False   \n",
      "1                    False                 False                 False   \n",
      "2                    False                 False                 False   \n",
      "3                    False                 False                 False   \n",
      "4                     True                 False                 False   \n",
      "...                    ...                   ...                   ...   \n",
      "1455                 False                 False                 False   \n",
      "1456                 False                 False                 False   \n",
      "1457                 False                 False                 False   \n",
      "1458                 False                 False                 False   \n",
      "1459                 False                 False                 False   \n",
      "\n",
      "      Neighborhood_SWISU  Neighborhood_Sawyer  Neighborhood_SawyerW  \\\n",
      "0                  False                False                 False   \n",
      "1                  False                False                 False   \n",
      "2                  False                False                 False   \n",
      "3                  False                False                 False   \n",
      "4                  False                False                 False   \n",
      "...                  ...                  ...                   ...   \n",
      "1455               False                False                 False   \n",
      "1456               False                False                 False   \n",
      "1457               False                False                 False   \n",
      "1458               False                False                 False   \n",
      "1459               False                False                 False   \n",
      "\n",
      "      Neighborhood_Somerst  Neighborhood_StoneBr  Neighborhood_Timber  \\\n",
      "0                    False                 False                False   \n",
      "1                    False                 False                False   \n",
      "2                    False                 False                False   \n",
      "3                    False                 False                False   \n",
      "4                    False                 False                False   \n",
      "...                    ...                   ...                  ...   \n",
      "1455                 False                 False                False   \n",
      "1456                 False                 False                False   \n",
      "1457                 False                 False                False   \n",
      "1458                 False                 False                False   \n",
      "1459                 False                 False                False   \n",
      "\n",
      "      Neighborhood_Veenker  \n",
      "0                    False  \n",
      "1                     True  \n",
      "2                    False  \n",
      "3                    False  \n",
      "4                    False  \n",
      "...                    ...  \n",
      "1455                 False  \n",
      "1456                 False  \n",
      "1457                 False  \n",
      "1458                 False  \n",
      "1459                 False  \n",
      "\n",
      "[1460 rows x 28 columns]\n"
     ]
    }
   ],
   "source": [
    "categorical_features = [\"BldgType\", \"Neighborhood\"]\n",
    "X_categorical = pd.get_dummies(data[categorical_features], drop_first=True)\n",
    "print(X_categorical)"
   ]
  },
  {
   "cell_type": "code",
   "execution_count": 10,
   "id": "f308ebdc-14a6-43f7-b779-2a359a1ff1a1",
   "metadata": {},
   "outputs": [
    {
     "name": "stdout",
     "output_type": "stream",
     "text": [
      "      YearBuilt  GrLivArea  TotalBsmtSF  LotArea  BedroomAbvGr  Fireplaces  \\\n",
      "0          2003       1710          856     8450             3           0   \n",
      "1          1976       1262         1262     9600             3           1   \n",
      "2          2001       1786          920    11250             3           1   \n",
      "3          1915       1717          756     9550             3           1   \n",
      "4          2000       2198         1145    14260             4           1   \n",
      "...         ...        ...          ...      ...           ...         ...   \n",
      "1455       1999       1647          953     7917             3           1   \n",
      "1456       1978       2073         1542    13175             3           2   \n",
      "1457       1941       2340         1152     9042             4           2   \n",
      "1458       1950       1078         1078     9717             2           0   \n",
      "1459       1965       1256         1256     9937             3           0   \n",
      "\n",
      "      OverallCond  OverallQual  BldgType_2fmCon  BldgType_Duplex  ...  \\\n",
      "0               5            7            False            False  ...   \n",
      "1               8            6            False            False  ...   \n",
      "2               5            7            False            False  ...   \n",
      "3               5            7            False            False  ...   \n",
      "4               5            8            False            False  ...   \n",
      "...           ...          ...              ...              ...  ...   \n",
      "1455            5            6            False            False  ...   \n",
      "1456            6            6            False            False  ...   \n",
      "1457            9            7            False            False  ...   \n",
      "1458            6            5            False            False  ...   \n",
      "1459            6            5            False            False  ...   \n",
      "\n",
      "      Neighborhood_NoRidge  Neighborhood_NridgHt  Neighborhood_OldTown  \\\n",
      "0                    False                 False                 False   \n",
      "1                    False                 False                 False   \n",
      "2                    False                 False                 False   \n",
      "3                    False                 False                 False   \n",
      "4                     True                 False                 False   \n",
      "...                    ...                   ...                   ...   \n",
      "1455                 False                 False                 False   \n",
      "1456                 False                 False                 False   \n",
      "1457                 False                 False                 False   \n",
      "1458                 False                 False                 False   \n",
      "1459                 False                 False                 False   \n",
      "\n",
      "      Neighborhood_SWISU  Neighborhood_Sawyer  Neighborhood_SawyerW  \\\n",
      "0                  False                False                 False   \n",
      "1                  False                False                 False   \n",
      "2                  False                False                 False   \n",
      "3                  False                False                 False   \n",
      "4                  False                False                 False   \n",
      "...                  ...                  ...                   ...   \n",
      "1455               False                False                 False   \n",
      "1456               False                False                 False   \n",
      "1457               False                False                 False   \n",
      "1458               False                False                 False   \n",
      "1459               False                False                 False   \n",
      "\n",
      "      Neighborhood_Somerst  Neighborhood_StoneBr  Neighborhood_Timber  \\\n",
      "0                    False                 False                False   \n",
      "1                    False                 False                False   \n",
      "2                    False                 False                False   \n",
      "3                    False                 False                False   \n",
      "4                    False                 False                False   \n",
      "...                    ...                   ...                  ...   \n",
      "1455                 False                 False                False   \n",
      "1456                 False                 False                False   \n",
      "1457                 False                 False                False   \n",
      "1458                 False                 False                False   \n",
      "1459                 False                 False                False   \n",
      "\n",
      "      Neighborhood_Veenker  \n",
      "0                    False  \n",
      "1                     True  \n",
      "2                    False  \n",
      "3                    False  \n",
      "4                    False  \n",
      "...                    ...  \n",
      "1455                 False  \n",
      "1456                 False  \n",
      "1457                 False  \n",
      "1458                 False  \n",
      "1459                 False  \n",
      "\n",
      "[1460 rows x 36 columns]\n"
     ]
    }
   ],
   "source": [
    "X = pd.concat([X_numerical, X_ordinal, X_categorical], axis=1)\n",
    "print(X)"
   ]
  },
  {
   "cell_type": "code",
   "execution_count": 11,
   "id": "4848cf18-aa17-486a-80bc-9df2d8156fb2",
   "metadata": {},
   "outputs": [
    {
     "name": "stdout",
     "output_type": "stream",
     "text": [
      "0       12.247694\n",
      "1       12.109011\n",
      "2       12.317167\n",
      "3       11.849398\n",
      "4       12.429216\n",
      "          ...    \n",
      "1455    12.072541\n",
      "1456    12.254863\n",
      "1457    12.493130\n",
      "1458    11.864462\n",
      "1459    11.901583\n",
      "Name: SalePrice, Length: 1460, dtype: float64\n"
     ]
    }
   ],
   "source": [
    "y = np.log(data[\"SalePrice\"])\n",
    "print(y)"
   ]
  },
  {
   "cell_type": "code",
   "execution_count": 12,
   "id": "c0a7db18-aa77-4887-a768-be9a80be5996",
   "metadata": {},
   "outputs": [],
   "source": [
    "X_train, X_test, y_train, y_test = train_test_split(X, y, test_size=0.2, random_state=42)\n"
   ]
  },
  {
   "cell_type": "code",
   "execution_count": 13,
   "id": "bc85138b-250b-4574-b3b5-801e44ad35b8",
   "metadata": {},
   "outputs": [],
   "source": [
    "scaler = StandardScaler()\n",
    "X_train = scaler.fit_transform(X_train)\n",
    "X_test = scaler.transform(X_test)"
   ]
  },
  {
   "cell_type": "code",
   "execution_count": 14,
   "id": "36fc9228-20dc-4129-afda-fb52480dea98",
   "metadata": {},
   "outputs": [],
   "source": [
    "lambdas = np.logspace(-3, 3, 50)"
   ]
  },
  {
   "cell_type": "code",
   "execution_count": 26,
   "id": "8961509a-157c-43c0-abf6-f26e63ce725a",
   "metadata": {},
   "outputs": [],
   "source": [
    "train_errors, test_errors = [], []\n",
    "for lambda_val in lambdas:\n",
    "    model = Ridge(alpha=lambda_val)\n",
    "    model.fit(X_train, y_train)\n",
    "    y_train_pred = model.predict(X_train)\n",
    "    train_errors.append(np.sqrt(mean_squared_error(y_train, y_train_pred)))\n",
    "    y_test_pred = model.predict(X_test)\n",
    "    test_errors.append(np.sqrt(mean_squared_error(y_test, y_test_pred)))\n",
    "    \n",
    "    \n",
    "    \n"
   ]
  },
  {
   "cell_type": "code",
   "execution_count": 27,
   "id": "325c87a6-24f1-48a2-93a4-3461bc336d76",
   "metadata": {},
   "outputs": [
    {
     "name": "stdout",
     "output_type": "stream",
     "text": [
      "Lambdas shape: (50,)\n",
      "Train errors shape: (50,)\n",
      "Test errors shape: (50,)\n"
     ]
    }
   ],
   "source": [
    "\n",
    "print(f\"Lambdas shape: {lambdas.shape}\")\n",
    "print(f\"Train errors shape: {np.array(train_errors).shape}\")\n",
    "print(f\"Test errors shape: {np.array(test_errors).shape}\")"
   ]
  },
  {
   "cell_type": "code",
   "execution_count": 28,
   "id": "01e62d88-8621-4687-a9b2-7b3cd5a15361",
   "metadata": {},
   "outputs": [
    {
     "data": {
      "image/png": "[encoded data removed]",
      "text/plain": [
       "<Figure size 1000x600 with 1 Axes>"
      ]
     },
     "metadata": {},
     "output_type": "display_data"
    }
   ],
   "source": [
    "plt.figure(figsize=(10, 6))\n",
    "plt.semilogx(lambdas, train_errors, label=\"Train Error\")\n",
    "plt.semilogx(lambdas, test_errors, label=\"Test Error\")\n",
    "plt.xlabel(\"Lambda\")\n",
    "plt.ylabel(\"RMS Error\")\n",
    "plt.title(\"Regularization Path\")\n",
    "plt.legend()\n",
    "plt.show()"
   ]
  },
  {
   "cell_type": "code",
   "execution_count": 20,
   "id": "c407c783-9a98-44c1-87e1-b3aac01a2298",
   "metadata": {},
   "outputs": [
    {
     "data": {
      "image/png": "[encoded data removed]",
      "text/plain": [
       "<Figure size 800x600 with 1 Axes>"
      ]
     },
     "metadata": {},
     "output_type": "display_data"
    }
   ],
   "source": [
    "plt.figure(figsize=(8, 6))\n",
    "plt.scatter(y_test, y_test_pred, alpha=0.5)\n",
    "plt.plot([min(y_test), max(y_test)], [min(y_test), max(y_test)], color=\"red\", linestyle=\"--\")\n",
    "plt.xlabel(\"True Log Price\")\n",
    "plt.ylabel(\"Predicted Log Price\")\n",
    "plt.title(\"Predicted vs. True Log Price\")\n",
    "plt.show()"
   ]
  },
  {
   "cell_type": "code",
   "execution_count": null,
   "id": "24b9956d-939b-4f28-af74-1ef5bb32fd67",
   "metadata": {},
   "outputs": [],
   "source": []
  }
 ],
 "metadata": {
  "kernelspec": {
   "display_name": "Python 3 (ipykernel)",
   "language": "python",
   "name": "python3"
  },
  "language_info": {
   "codemirror_mode": {
    "name": "ipython",
    "version": 3
   },
   "file_extension": ".py",
   "mimetype": "text/x-python",
   "name": "python",
   "nbconvert_exporter": "python",
   "pygments_lexer": "ipython3",
   "version": "3.12.7"
  }
 },
 "nbformat": 4,
 "nbformat_minor": 5
}
